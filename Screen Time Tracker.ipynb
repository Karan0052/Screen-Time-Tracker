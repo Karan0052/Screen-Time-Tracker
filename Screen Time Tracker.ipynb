{
 "cells": [
  {
   "cell_type": "code",
   "execution_count": 4,
   "id": "68ab827d",
   "metadata": {},
   "outputs": [
    {
     "name": "stdout",
     "output_type": "stream",
     "text": [
      "Total screen time: 0.02 hours\n"
     ]
    },
    {
     "ename": "KeyboardInterrupt",
     "evalue": "",
     "output_type": "error",
     "traceback": [
      "\u001b[0;31m---------------------------------------------------------------------------\u001b[0m",
      "\u001b[0;31mKeyboardInterrupt\u001b[0m                         Traceback (most recent call last)",
      "Cell \u001b[0;32mIn[4], line 33\u001b[0m\n\u001b[1;32m     30\u001b[0m     os\u001b[38;5;241m.\u001b[39msystem(command)\n\u001b[1;32m     31\u001b[0m     time\u001b[38;5;241m.\u001b[39msleep(\u001b[38;5;241m3600\u001b[39m)\n\u001b[0;32m---> 33\u001b[0m time\u001b[38;5;241m.\u001b[39msleep(CHECK_INTERVAL)\n",
      "\u001b[0;31mKeyboardInterrupt\u001b[0m: "
     ]
    }
   ],
   "source": [
    "import os\n",
    "import time\n",
    "import Quartz\n",
    "\n",
    "\n",
    "def get_idle_time():\n",
    "    \n",
    "    idle_time = Quartz.CGEventSourceSecondsSinceLastEventType(Quartz.kCGEventSourceStateHIDSystemState, Quartz.kCGAnyInputEventType)\n",
    "    return idle_time\n",
    "\n",
    "total_screen_time = 0  \n",
    "CHECK_INTERVAL = 60  \n",
    "MAX_SCREEN_TIME = 3600  \n",
    "\n",
    "while True:\n",
    "    idle_time = get_idle_time()\n",
    "    \n",
    "\n",
    "    if idle_time < CHECK_INTERVAL:\n",
    "        total_screen_time += CHECK_INTERVAL\n",
    "    \n",
    "    print(f\"Total screen time: {total_screen_time / 3600:.2f} hours\")\n",
    "    \n",
    "\n",
    "    if total_screen_time >= MAX_SCREEN_TIME:\n",
    "        command = \"osascript -e \\'say \\\"You have reached 1 hours of screen time today. Please take a break!\\\"\\'; osascript -e \\'display alert \\\"Is It Important Then Your health? \\n Please Take a Break\\\"\\'\"\n",
    "\n",
    "        \n",
    "         \n",
    "        os.system(command)\n",
    "        time.sleep(3600)\n",
    "    \n",
    "    time.sleep(CHECK_INTERVAL)\n"
   ]
  },
  {
   "cell_type": "code",
   "execution_count": null,
   "id": "f4701e43",
   "metadata": {},
   "outputs": [],
   "source": []
  },
  {
   "cell_type": "code",
   "execution_count": null,
   "id": "870f4ad2",
   "metadata": {},
   "outputs": [],
   "source": []
  },
  {
   "cell_type": "code",
   "execution_count": null,
   "id": "afc56eac",
   "metadata": {},
   "outputs": [],
   "source": []
  }
 ],
 "metadata": {
  "kernelspec": {
   "display_name": "Python 3 (ipykernel)",
   "language": "python",
   "name": "python3"
  },
  "language_info": {
   "codemirror_mode": {
    "name": "ipython",
    "version": 3
   },
   "file_extension": ".py",
   "mimetype": "text/x-python",
   "name": "python",
   "nbconvert_exporter": "python",
   "pygments_lexer": "ipython3",
   "version": "3.11.4"
  }
 },
 "nbformat": 4,
 "nbformat_minor": 5
}
